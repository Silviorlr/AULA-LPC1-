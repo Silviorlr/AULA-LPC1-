{
  "nbformat": 4,
  "nbformat_minor": 0,
  "metadata": {
    "colab": {
      "name": "LPC1 EXER 04",
      "provenance": [],
      "authorship_tag": "ABX9TyP9PwQ/f6uM3XHBHb3rF92/",
      "include_colab_link": true
    },
    "kernelspec": {
      "name": "python3",
      "display_name": "Python 3"
    },
    "language_info": {
      "name": "python"
    }
  },
  "cells": [
    {
      "cell_type": "markdown",
      "metadata": {
        "id": "view-in-github",
        "colab_type": "text"
      },
      "source": [
        "<a href=\"https://colab.research.google.com/github/Silviorlr/AULA-LPC1-/blob/main/LPC1_EXER_04.ipynb\" target=\"_parent\"><img src=\"https://colab.research.google.com/assets/colab-badge.svg\" alt=\"Open In Colab\"/></a>"
      ]
    },
    {
      "cell_type": "code",
      "execution_count": null,
      "metadata": {
        "colab": {
          "base_uri": "https://localhost:8080/"
        },
        "id": "63ASEWrQnTrb",
        "outputId": "9eb53771-5118-4120-e169-43c0caccaabb"
      },
      "outputs": [
        {
          "output_type": "stream",
          "name": "stdout",
          "text": [
            "execute comando de controle/decisão de um aeromodelo\n",
            "escolha uma ação1\n",
            "Acelerar\n",
            "escolha uma ação2\n",
            "Decolar\n",
            "escolha uma ação3\n",
            "Planar\n",
            "escolha uma ação4\n",
            "Função Piloto Automático\n",
            "escolha uma ação5\n",
            "Pousar\n"
          ]
        }
      ],
      "source": [
        "#ETE PORTO DIGITAL\n",
        "#PROFESSOR: CLOVES ROCHA\n",
        "#SILVIO RICARDO\n",
        "\n",
        "print(\"execute comando de controle/decisão de um aeromodelo\")\n",
        "\n",
        "while(\"Thue\"):\n",
        "  comando = int(input(\"escolha uma ação\"))\n",
        "  if (comando==1):\n",
        "    print(\"Acelerar\")\n",
        "  elif (comando==2):\n",
        "    print(\"Decolar\")\n",
        "  elif (comando==3):\n",
        "    print(\"Planar\")\n",
        "  elif (comando==4):\n",
        "    print(\"Função Piloto Automático\")\n",
        "  elif (comando==5):\n",
        "    print(\"Pousar\")\n",
        "\n"
      ]
    }
  ]
}
