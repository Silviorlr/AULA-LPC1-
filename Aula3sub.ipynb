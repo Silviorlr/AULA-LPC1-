{
  "nbformat": 4,
  "nbformat_minor": 0,
  "metadata": {
    "colab": {
      "name": "Aula3sub",
      "provenance": []
    },
    "kernelspec": {
      "name": "python3",
      "display_name": "Python 3"
    },
    "language_info": {
      "name": "python"
    }
  },
  "cells": [
    {
      "cell_type": "code",
      "execution_count": 2,
      "metadata": {
        "colab": {
          "base_uri": "https://localhost:8080/"
        },
        "id": "yBmg1WLWBGv4",
        "outputId": "5a09f956-6992-4ac2-e876-731a5b305f6e"
      },
      "outputs": [
        {
          "output_type": "stream",
          "name": "stdout",
          "text": [
            "Olá, ETE PORTO DIGITAL!\n"
          ]
        }
      ],
      "source": [
        "# ETE PORTO DIGITAL\n",
        "# DISCIPLINA: PLPC1\n",
        "# PROFESSOR: CLOVIS\n",
        "# ESTUDANTE: SILVIO RICARDO\n",
        "\n",
        "print (\"Olá, ETE PORTO DIGITAL!\")"
      ]
    }
  ]
}