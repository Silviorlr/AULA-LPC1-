{
  "nbformat": 4,
  "nbformat_minor": 0,
  "metadata": {
    "colab": {
      "name": "Aula3sub",
      "provenance": [],
      "authorship_tag": "ABX9TyOaaLe3gAopwKkqgwklRpkJ",
      "include_colab_link": true
    },
    "kernelspec": {
      "name": "python3",
      "display_name": "Python 3"
    },
    "language_info": {
      "name": "python"
    }
  },
  "cells": [
    {
      "cell_type": "markdown",
      "metadata": {
        "id": "view-in-github",
        "colab_type": "text"
      },
      "source": [
        "<a href=\"https://colab.research.google.com/github/Silviorlr/AULA-LPC1-/blob/main/Aula3sub.ipynb\" target=\"_parent\"><img src=\"https://colab.research.google.com/assets/colab-badge.svg\" alt=\"Open In Colab\"/></a>"
      ]
    },
    {
      "cell_type": "code",
      "execution_count": 1,
      "metadata": {
        "colab": {
          "base_uri": "https://localhost:8080/"
        },
        "id": "yBmg1WLWBGv4",
        "outputId": "2a415600-ec7e-45a4-d9ad-6def95309c67"
      },
      "outputs": [
        {
          "output_type": "stream",
          "name": "stdout",
          "text": [
            "Olá, ETE PORTO DIGITAL!\n"
          ]
        }
      ],
      "source": [
        "# ETE PORTO DIGITAL\n",
        "# DISCIPLINA: LPC1\n",
        "# PROFESSOR: CLOVES\n",
        "# ESTUDANTE: SILVIO RICARDO\n",
        "\n",
        "print (\"Olá, ETE PORTO DIGITAL!\")"
      ]
    }
  ]
}