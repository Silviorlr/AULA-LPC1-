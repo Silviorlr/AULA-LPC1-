{
  "nbformat": 4,
  "nbformat_minor": 0,
  "metadata": {
    "colab": {
      "name": "Estrutura do Desafio Sequencial 02.ipynb",
      "provenance": [],
      "collapsed_sections": [],
      "authorship_tag": "ABX9TyOEY0YsNN+I0oqb1E4HzCqS",
      "include_colab_link": true
    },
    "kernelspec": {
      "name": "python3",
      "display_name": "Python 3"
    },
    "language_info": {
      "name": "python"
    }
  },
  "cells": [
    {
      "cell_type": "markdown",
      "metadata": {
        "id": "view-in-github",
        "colab_type": "text"
      },
      "source": [
        "<a href=\"https://colab.research.google.com/github/Silviorlr/AULA-LPC1-/blob/main/Estrutura_do_Desafio_Sequencial_02.ipynb\" target=\"_parent\"><img src=\"https://colab.research.google.com/assets/colab-badge.svg\" alt=\"Open In Colab\"/></a>"
      ]
    },
    {
      "cell_type": "code",
      "execution_count": null,
      "metadata": {
        "id": "e-js4OrkSBPw"
      },
      "outputs": [],
      "source": [
        "# 1. Faça um Programa que peça dois números e imprima o maior deles.\n",
        "var1 = float(input(\"digite o primriro número:\"))\n",
        "var2 = float(input(\"digite o segundo número: \"))\n",
        "if var1 > var2:\n",
        "    print(\"o maior número é:\", var1)\n",
        "elif var2 > var1:\n",
        "    print(\"o maior número é:\", var2)\n"
      ]
    },
    {
      "cell_type": "code",
      "source": [
        "# 2. Faça um Programa que peça um valor e mostre na tela se o valor é positivo ou negativo.\n",
        "valor = float(input(\"informe um valor:\"))\n",
        "if valor > 0:\n",
        "    print(\"positivo\")\n",
        "elif valor < 0:\n",
        "    print(\"negativo\")"
      ],
      "metadata": {
        "id": "CeA_SThNi46q"
      },
      "execution_count": null,
      "outputs": []
    },
    {
      "cell_type": "code",
      "source": [
        "#\t3. Faça um Programa que verifique se uma letra digitada é \"F\" ou \"M\". Conforme a letra escrever: F - Feminino, M - Masculino, Sexo Inválido.\n",
        "letra = str(input(\"digite uma letra: \"))\n",
        "if letra == \"f\":\n",
        "    print(\"feminino\")\n",
        "elif letra == \"m\":\n",
        "    print(\"masculino\")\n",
        "else:\n",
        "    print(\"sexo inválido\")"
      ],
      "metadata": {
        "id": "Y0FC0uq2i_PG"
      },
      "execution_count": null,
      "outputs": []
    },
    {
      "cell_type": "code",
      "source": [
        "#\t4. Faça um Programa que verifique se uma letra digitada é vogal ou consoante.\n",
        "letra = str(input(\"digite uma letra: \"))\n",
        "if letra in \"a\" \"e\" \"i\" \"o\" \"u\":\n",
        "   print(\"é vogal\")\n",
        "else:\n",
        "  print(\"é consoante\")\n",
        "\n",
        "\n",
        "\n"
      ],
      "metadata": {
        "id": "9VlD74QJDj6Y"
      },
      "execution_count": null,
      "outputs": []
    },
    {
      "cell_type": "code",
      "source": [
        "# 5. Faça um Programa que leia três números e mostre o maior deles.\n",
        "var1 = float(input(\"digite o primriro número:\"))\n",
        "var2 = float(input(\"digite o segundo número: \"))\n",
        "var3 = float(input(\"digite o segundo número: \"))\n",
        "if var1 > var2 and var1 > var3:\n",
        "    print(\"o maior número é:\", var1)\n",
        "if var2 > var1 and var2 > var3:\n",
        "    print(\"o maior número é:\", var2)\n",
        "if var3 > var1 and var3 > var2:\n",
        "    print(\"o maior número é:\", var3)\n",
        "\n"
      ],
      "metadata": {
        "id": "-UQDIa7vP_qm"
      },
      "execution_count": null,
      "outputs": []
    },
    {
      "cell_type": "code",
      "source": [
        "# 6. Faça um Programa que leia três números e mostre o maior e o menor deles.\n",
        "var1 = int(input(\"Digite o primeiro valor:\"))\n",
        "var2 = int(input(\"Digite o segundo valor:\"))\n",
        "var3 = int(input(\"Digite o terceiro valor:\"))\n",
        "maior = var1\n",
        "if var2 > var1 and var2 > var3:\n",
        "    maior = var2\n",
        "if var3 > var1 and var3> var2:\n",
        "    maior = var3\n",
        "menor = var1\n",
        "if var2 < var3 and var2 < var1:\n",
        "    menor = var2\n",
        "if var3 < var2 and var3 < var1:\n",
        "    menor = var3\n",
        "print(\"O menor número digitado foi:\", menor)\n",
        "print(\"O maior número digitado foi:\", maior)"
      ],
      "metadata": {
        "id": "d6xhJch0ehk7"
      },
      "execution_count": null,
      "outputs": []
    },
    {
      "cell_type": "code",
      "source": [
        "# 7. Faça um programa que pergunte o preço de três produtos e informe qual produto você deve comprar, sabendo que a decisão é sempre pelo mais barato.\n",
        "var1 = float(input(\"preço do produto 01: \"))\n",
        "var2 = float(input(\"preço do produto 02: \"))\n",
        "var3 = float(input(\"preço do produto 03: \"))\n",
        "if var1 < var2 and var1 < var3:\n",
        "    print(\"o mais barato é o produto 01\")\n",
        "if var2 < var1 and var2 < var3:\n",
        "    print(\"o mais barato é o produto 02\")\n",
        "if var3 < var1 and var3 < var2:\n",
        "    print(\"o mais barato é o produto 03\")"
      ],
      "metadata": {
        "id": "zQNoiA4ReouH"
      },
      "execution_count": null,
      "outputs": []
    },
    {
      "cell_type": "code",
      "source": [
        "#\t8. Faça um Programa que leia três números e mostre-os em ordem decrescente.\n",
        "var1 = float(input(\"digite o primriro número:\"))\n",
        "var2 = float(input(\"digite o segundo número: \"))\n",
        "var3 = float(input(\"digite o segundo número: \"))\n",
        "var4 = [var1, var2, var3]\n",
        "var4.sort(reverse = True)\n",
        "print(var4)\n",
        "\n"
      ],
      "metadata": {
        "id": "jRcf4_Ade5zj"
      },
      "execution_count": null,
      "outputs": []
    },
    {
      "cell_type": "code",
      "source": [
        "# 9 Faça um Programa que pergunte em que turno você estuda. Peça para digitar M-matutino ou V-Vespertino ou N- Noturno. Imprima a mensagem \"Bom Dia!\", \"Boa Tarde!\" ou \"Boa Noite!\" ou \"Valor Inválido!\", conforme o caso.\n",
        "letra = str(input(\"Digite a letra correspondente ao turno que você estuda: M-matutino ou V-Vespertino ou N-Noturno: \"))\n",
        "if letra == \"m\":\n",
        "    print(\"Bom Dia!\")\n",
        "elif letra == \"v\":\n",
        "    print(\"Boa Tarde!\") \n",
        "elif letra == \"n\":\n",
        "    print(\"Boa Noite!\")   \n",
        "else:\n",
        "    print(\"Valor Inválido!\")\n"
      ],
      "metadata": {
        "id": "mDOGfYl8fotX"
      },
      "execution_count": null,
      "outputs": []
    },
    {
      "cell_type": "code",
      "source": [
        "# 10. Faça um Programa que peça um número correspondente a um determinado ano e em seguida informe se este ano é ou não bissexto.\n"
      ],
      "metadata": {
        "id": "JKev9igRfyXS"
      },
      "execution_count": null,
      "outputs": []
    },
    {
      "cell_type": "code",
      "source": [
        "# 11. Faça um Programa que peça uma data no formato dd/mm/aaaa e determine se a mesma é uma data válida.\n"
      ],
      "metadata": {
        "id": "ExhlZAERf1ye"
      },
      "execution_count": null,
      "outputs": []
    },
    {
      "cell_type": "code",
      "source": [
        "# 12. Faça um programa que faça 5 perguntas para uma pessoa sobre um crime. As perguntas são:\n",
        "#\ta. \"Telefonou para a vítima?\"\n",
        "#\tb. \"Esteve no local do crime?\"\n",
        "#\tc. \"Mora perto da vítima?\"\n",
        "#\td. \"Devia para a vítima?\"\n",
        "#\te. \"Já trabalhou com a vítima?\" O programa deve no final emitir uma classificação sobre a participação da pessoa no crime. Se a pessoa responder positivamente a 2 questões ela deve ser classificada como \"Suspeita\", entre 3 e 4 como \"Cúmplice\" e 5 como \"Assassino\". Caso contrário, ele será classificado como \"Inocente\".\n",
        "\n",
        "p1 = int(input(\"Telefonou para a vítima? 1-sim ou 0-não \"))\n",
        "p2 = int(input(\"Esteve no local do crime? 1-sim ou 0-não \"))\n",
        "p3 = int(input(\"Mora perto da vítima? 1-sim ou 0-não \"))\n",
        "p4 = int(input(\"Devia para a vítima? 1-sim ou 0-não \"))\n",
        "p5 = int(input(\"Já trabalhou com a vítima? 1-sim ou 0-não \"))\n",
        "\n",
        "soma_respostas = p1 + p2 + p3 + p4 + p5\n",
        "\n",
        "if (soma_respostas < 2):\n",
        " print(\"Inocente\")\n",
        "elif (soma_respostas == 2):\n",
        " print(\"Suspeita\")\n",
        "elif (3 <= soma_respostas <= 4):\n",
        " print(\"Cúmplice\")\n",
        "elif (soma_respostas == 5):\n",
        " print(\"Assassino\")\n",
        "\n"
      ],
      "metadata": {
        "id": "CTP6kPAbf-jJ"
      },
      "execution_count": null,
      "outputs": []
    }
  ]
}