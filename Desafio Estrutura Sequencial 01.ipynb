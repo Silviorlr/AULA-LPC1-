{
  "nbformat": 4,
  "nbformat_minor": 0,
  "metadata": {
    "colab": {
      "name": "DesafioEstruturaSequencial01.ipynb",
      "provenance": [],
      "collapsed_sections": [],
      "authorship_tag": "ABX9TyOyZrLTx+xv29jXT+2xl7lx",
      "include_colab_link": true
    },
    "kernelspec": {
      "name": "python3",
      "display_name": "Python 3"
    },
    "language_info": {
      "name": "python"
    }
  },
  "cells": [
    {
      "cell_type": "markdown",
      "metadata": {
        "id": "view-in-github",
        "colab_type": "text"
      },
      "source": [
        "<a href=\"https://colab.research.google.com/github/Silviorlr/AULA-LPC1-/blob/main/Desafio%20Estrutura%20Sequencial%2001.ipynb\" target=\"_parent\"><img src=\"https://colab.research.google.com/assets/colab-badge.svg\" alt=\"Open In Colab\"/></a>"
      ]
    },
    {
      "cell_type": "code",
      "execution_count": null,
      "metadata": {
        "id": "gDCaX5ghNCOz"
      },
      "outputs": [],
      "source": [
        "#\t1. Faça um Programa que mostre a mensagem \"Alô ETE PORTO DIGITAL!\" na tela.\n",
        "print(\"Alô ETE PORTO DIGITAL! \") \n"
      ]
    },
    {
      "cell_type": "code",
      "source": [
        "# 2. Faça um Programa que peça um número e então mostre a mensagem 'O número informado foi [número]'.\n",
        "var = input(\"digite um número? \")\n",
        "print(\"O número informado foi\", var)"
      ],
      "metadata": {
        "id": "furRMnL1OGz9"
      },
      "execution_count": null,
      "outputs": []
    },
    {
      "cell_type": "code",
      "source": [
        "\n",
        "# 3. Faça um Programa que peça dois números e imprima a soma.\n",
        "var1 = int(input(\"digite um número: \"))\n",
        "var2 = int(input(\"digite outro número: \"))\n",
        "var3 = var1 + var2\n",
        "print(\"a soma é:\", var3 )"
      ],
      "metadata": {
        "id": "l0fD0ee0PCh8"
      },
      "execution_count": null,
      "outputs": []
    },
    {
      "cell_type": "code",
      "source": [
        "# 4. Faça um Programa que peça as 4 notas bimestrais e mostre a média.\n",
        "var1 = float(input(\"digite a nota do primeiro bimestre? \"))\n",
        "var2 = float(input(\"digite a nota do segundo bimestre? \"))\n",
        "var3 = float(input(\"digite a nota do terceiro bimestre? \"))\n",
        "var4 = float(input(\"digite a nota do quarto bimestre? \"))\n",
        "var5 = (var1 + var2 + var3 + var4)\n",
        "media = var5 / 4 \n",
        "print(\"a sua media é:\", media)"
      ],
      "metadata": {
        "id": "NZPruuNUPnuO"
      },
      "execution_count": null,
      "outputs": []
    },
    {
      "cell_type": "code",
      "source": [
        "# 5. Faça um Programa que converta metros para centímetros.\n",
        "var1 = float(input(\"digite o valor em metros\" ))\n",
        "var2 = var1*100\n",
        "print (\"seu valor em metros convertidos em centímetros é: \", var2, \"cm\" )"
      ],
      "metadata": {
        "id": "CTzfKLrMa6En"
      },
      "execution_count": null,
      "outputs": []
    },
    {
      "cell_type": "code",
      "source": [
        "# 6. Faça um Programa que peça o raio de um círculo, calcule e mostre sua área.\n",
        "var1 = float(input(\"digite o valor do raio de um círculo: \" ))\n",
        "var2 = (3.14*var1**2)\n",
        "print (\"o valor da área é: \", var2 )\n"
      ],
      "metadata": {
        "id": "6Jytozhzg_vD"
      },
      "execution_count": null,
      "outputs": []
    },
    {
      "cell_type": "code",
      "source": [
        "# 7.Faça um Programa que calcule a área de um quadrado, em seguida mostre o dobro desta área para o usuário.\n",
        "lado = float(input(\"digite o valor do lado do quadrado: \" ) )\n",
        "base = float(input(\"digite o valor da base do quadrado: \" ) )\n",
        "área = (lado * base)\n",
        "print (\"A área do quadrado é:\", área )\n",
        "dobro = (área*2)\n",
        "print (\"O dobro da área é:\", dobro )"
      ],
      "metadata": {
        "id": "INhX0M4Bs5An"
      },
      "execution_count": null,
      "outputs": []
    },
    {
      "cell_type": "code",
      "source": [
        "# 8. Faça um Programa que pergunte quanto você ganha por hora e o número de horas trabalhadas no mês. Calcule e mostre o total do seu salário no referido mês.\n",
        "valor = float(input(\"Quanto você ganha por hora?  \" ))\n",
        "horas = float(input(\"Quantas horas você trabalha por mês?  \" ))\n",
        "salário = float((valor * horas))\n",
        "print(\"Seu salário desse mês é:\", salário )"
      ],
      "metadata": {
        "id": "x20vJefr2zzW"
      },
      "execution_count": null,
      "outputs": []
    },
    {
      "cell_type": "code",
      "source": [
        "# 9. Faça um Programa que peça a temperatura em graus Fahrenheit, transforme e mostre a temperatura em graus Celsius. C = 5 * ((F-32) / 9)\n",
        "F=float(input(\"Qual a temperatura em graus Fahrenheit? \" ))\n",
        "c = 5 * ((F-32) / 9)\n",
        "print(\"A temperatura em graus Celsius é:\", c)"
      ],
      "metadata": {
        "id": "_rjWi-O8EPSb"
      },
      "execution_count": null,
      "outputs": []
    },
    {
      "cell_type": "code",
      "source": [
        "# 10. Faça um Programa que peça a temperatura em graus Celsius, transforme e mostre em graus Fahrenheit.\n",
        "c = float(input(\"Qual a temperatura em graus Celsius? \" ))\n",
        "f = c * 1.8 + 32\n",
        "print(\"A temperatura em graus Fahrenheit é:\", f)"
      ],
      "metadata": {
        "id": "U7YM4OAJH3iI"
      },
      "execution_count": null,
      "outputs": []
    },
    {
      "cell_type": "code",
      "source": [
        "# 11. Faça um Programa que peça 2 números inteiros e um número real. Calcule e mostre: o produto do dobro do primeiro com metade do segundo. a soma do triplo do primeiro com o terceiro. O terceiro elevado ao cubo.\n",
        "numero1 = int(input(\"digite um número inteiro: \" ))\n",
        "numero2 = int(input(\"digite outro número inteiro: \" ))\n",
        "numrero3 = float(input(\"digite um numero real: \"))\n",
        "print(\"O produto do dobro do primeiro com a metade do segundo:\", numero1 * 2 * numero2/2)5\n",
        "print(\"A soma do triplo do primeiro com o terceiro. :\", numero1 * 3 + numero3)\n",
        "print(\"O terceiro elevado ao cubo:\", numero3 ** 3)\n"
      ],
      "metadata": {
        "id": "J65bbgUHLIw8"
      },
      "execution_count": null,
      "outputs": []
    },
    {
      "cell_type": "code",
      "source": [
        "# 12. Tendo como dados de entrada a altura de uma pessoa, construa um algoritmo que calcule seu peso ideal, usando a seguinte fórmula: (72.7*altura) - 58\n",
        "altura = float(input(\"digite sua altura: \"))\n",
        "peso = 72.7 * altura - 58\n",
        "print(\"seu peso ideal para sua altura é:\", peso, \"kg\")"
      ],
      "metadata": {
        "id": "MBQOoYFka23C"
      },
      "execution_count": null,
      "outputs": []
    },
    {
      "cell_type": "code",
      "source": [
        "# 13. Tendo como dado de entrada a altura (h) de uma pessoa, construa um algoritmo que calcule seu peso ideal, utilizando as seguintes fórmulas: Para homens: (72.7*h) - 58.  Para mulheres: (62.1*h) - 44.7\n",
        "h = float(input(\"qual é a sua altura? \" ))\n",
        "s = str(input(\"você e homem ou mulher? \" ))\n",
        "homem = (72.7*h) - 58\n",
        "mulher = (62.1*h) - 44.7\n",
        "if s == \"homem\":\n",
        "  print(\"seu peso ideal\", homem)\n",
        "elif s == \"mulher\":\n",
        "  print(\"seu peso ideal\", mulher)\n",
        "      \n",
        "\n"
      ],
      "metadata": {
        "id": "9YCobucjgqSy"
      },
      "execution_count": null,
      "outputs": []
    },
    {
      "cell_type": "code",
      "source": [
        "# 14. João Papo-de-Pescador, homem de bem, comprou um microcomputador para controlar o rendimento diário de seu trabalho. Toda vez que ele traz um peso de peixes maior que o estabelecido pelo regulamento de pesca do estado de São Paulo (50 quilos) deve pagar uma multa de R$ 4,00 por quilo excedente. João precisa que você faça um programa que leia a variável peso (peso de peixes) e calcule o excesso. Gravar na variável excesso a quantidade de quilos além do limite e na variável multa o valor da multa que João deverá pagar. Imprima os dados do programa com as mensagens adequadas.\n",
        "pesoLimite = 50\n",
        "peso = float(input(\"Digite a quantidade de kgs de peixe que JoÃ£o trouxe: \"))\n",
        "if peso > pesoLimite:\n",
        "    excesso = peso - pesoLimite\n",
        "    multa = excesso * 4.00\n",
        "    print (\"Multa foi de \" + str(multa) + \" reais\")\n"
      ],
      "metadata": {
        "id": "JorFceLfg2bt"
      },
      "execution_count": null,
      "outputs": []
    },
    {
      "cell_type": "code",
      "source": [
        "# 15. Faça um programa que peça o tamanho de um arquivo para download (em MB) e a velocidade de um link de Internet (em Mbps), calcule e infome o tempo aproximado de download do arquivo usando este link (em minutos).\n",
        "tamanhoArquivo = float(input(\"Digite o tamanho do arquivo para download: \"))\n",
        "velocidade = float(input(\"Digite a velocidade de um link de internet: \"))\n",
        "segundos = tamanhoArquivo/velocidade\n",
        "minutos = int(segundos/60)\n",
        "segundos = segundos%60\n",
        "print(\"Tempo aproximado para download: \" + str(minutos) + \" minutos e \" + str(segundos) + \" segundos\")"
      ],
      "metadata": {
        "id": "tTxjFDgEhFEN"
      },
      "execution_count": null,
      "outputs": []
    }
  ]
}